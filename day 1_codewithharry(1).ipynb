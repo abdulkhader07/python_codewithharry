{
 "cells": [
  {
   "cell_type": "code",
   "execution_count": 1,
   "id": "86789f04",
   "metadata": {},
   "outputs": [],
   "source": [
    "var1= \"calculator\"\n",
    "var2= \"your output is:\""
   ]
  },
  {
   "cell_type": "code",
   "execution_count": 2,
   "id": "0f0bbdac",
   "metadata": {},
   "outputs": [
    {
     "name": "stdout",
     "output_type": "stream",
     "text": [
      "CALCULATOR\n"
     ]
    }
   ],
   "source": [
    "print(var1.upper())"
   ]
  },
  {
   "cell_type": "code",
   "execution_count": 3,
   "id": "420bf76c",
   "metadata": {},
   "outputs": [
    {
     "name": "stdout",
     "output_type": "stream",
     "text": [
      "1\n",
      "2\n"
     ]
    }
   ],
   "source": [
    "var3= input()\n",
    "var4= input()"
   ]
  },
  {
   "cell_type": "code",
   "execution_count": 4,
   "id": "b1e33899",
   "metadata": {},
   "outputs": [
    {
     "name": "stdout",
     "output_type": "stream",
     "text": [
      "your output is: 3\n"
     ]
    }
   ],
   "source": [
    "print(var2,int(var3)+int(var4))"
   ]
  },
  {
   "cell_type": "code",
   "execution_count": 9,
   "id": "0ab61d66",
   "metadata": {},
   "outputs": [
    {
     "data": {
      "text/plain": [
       "'\\nthis \\nis \\nthe \\nmethhod\\nwhich \\nis \\nshown\\nby \\nharry\\n'"
      ]
     },
     "execution_count": 9,
     "metadata": {},
     "output_type": "execute_result"
    }
   ],
   "source": [
    "#or\n",
    "\"\"\"\n",
    "this \n",
    "is \n",
    "the \n",
    "methhod\n",
    "which \n",
    "is \n",
    "shown\n",
    "by \n",
    "harry\n",
    "\"\"\""
   ]
  },
  {
   "cell_type": "raw",
   "id": "fab2f2e5",
   "metadata": {},
   "source": []
  },
  {
   "cell_type": "code",
   "execution_count": 7,
   "id": "30c79d2e",
   "metadata": {},
   "outputs": [
    {
     "name": "stdout",
     "output_type": "stream",
     "text": [
      "enter your first number:\n",
      "12\n",
      "enter your second number:\n",
      "8\n",
      "your output is: 20\n"
     ]
    }
   ],
   "source": [
    "print(\"enter your first number:\")\n",
    "n1= input()\n",
    "print(\"enter your second number:\")\n",
    "n2= input()\n",
    "print(\"your output is:\",int(n1)+int(n2))"
   ]
  },
  {
   "cell_type": "code",
   "execution_count": 10,
   "id": "9cf60598",
   "metadata": {},
   "outputs": [],
   "source": [
    "#..................#"
   ]
  },
  {
   "cell_type": "code",
   "execution_count": null,
   "id": "634e2370",
   "metadata": {},
   "outputs": [],
   "source": [
    "Method \tDescription\n",
    "capitalize()\tConverts the first character to upper case\n",
    "casefold()\tConverts string into lower case\n",
    "center()\tReturns a centered string\n",
    "count()\tReturns the number of times a specified value occurs in a string\n",
    "encode()\tReturns an encoded version of the string\n",
    "endswith()\tReturns true if the string ends with the specified value\n",
    "expandtabs()\tSets the tab size of the string\n",
    "find()\tSearches the string for a specified value and returns the position of where it was found\n",
    "format()\tFormats specified values in a string\n",
    "format_map()\tFormats specified values in a string\n",
    "index()\tSearches the string for a specified value and returns the position of where it was found\n",
    "isalnum()\tReturns True if all characters in the string are alphanumeric\n",
    "isalpha()\tReturns True if all characters in the string are in the alphabet\n",
    "isascii()\tReturns True if all characters in the string are ascii characters\n",
    "isdecimal()\tReturns True if all characters in the string are decimals\n",
    "isdigit()\tReturns True if all characters in the string are digits\n",
    "isidentifier()\tReturns True if the string is an identifier\n",
    "islower()\tReturns True if all characters in the string are lower case\n",
    "isnumeric()\tReturns True if all characters in the string are numeric\n",
    "isprintable()\tReturns True if all characters in the string are printable\n",
    "isspace()\tReturns True if all characters in the string are whitespaces\n",
    "istitle() \tReturns True if the string follows the rules of a title\n",
    "isupper()\tReturns True if all characters in the string are upper case\n",
    "join()\tConverts the elements of an iterable into a string\n",
    "ljust()\tReturns a left justified version of the string\n",
    "lower()\tConverts a string into lower case\n",
    "lstrip()\tReturns a left trim version of the string\n",
    "maketrans()\tReturns a translation table to be used in translations\n",
    "partition()\tReturns a tuple where the string is parted into three parts\n",
    "replace()\tReturns a string where a specified value is replaced with a specified value\n",
    "rfind()\tSearches the string for a specified value and returns the last position of where it was found\n",
    "rindex()\tSearches the string for a specified value and returns the last position of where it was found\n",
    "rjust()\tReturns a right justified version of the string\n",
    "rpartition()\tReturns a tuple where the string is parted into three parts\n",
    "rsplit()\tSplits the string at the specified separator, and returns a list\n",
    "rstrip()\tReturns a right trim version of the string\n",
    "split()\tSplits the string at the specified separator, and returns a list\n",
    "splitlines()\tSplits the string at line breaks and returns a list\n",
    "startswith()\tReturns true if the string starts with the specified value\n",
    "strip()\tReturns a trimmed version of the string\n",
    "swapcase()\tSwaps cases, lower case becomes upper case and vice versa\n",
    "title()\tConverts the first character of each word to upper case\n",
    "translate()\tReturns a translated string\n",
    "upper()\tConverts a string into upper case\n",
    "zfill()\tFills the string with a specified number of 0 values at the beginning"
   ]
  }
 ],
 "metadata": {
  "kernelspec": {
   "display_name": "Python 3 (ipykernel)",
   "language": "python",
   "name": "python3"
  },
  "language_info": {
   "codemirror_mode": {
    "name": "ipython",
    "version": 3
   },
   "file_extension": ".py",
   "mimetype": "text/x-python",
   "name": "python",
   "nbconvert_exporter": "python",
   "pygments_lexer": "ipython3",
   "version": "3.9.7"
  }
 },
 "nbformat": 4,
 "nbformat_minor": 5
}
